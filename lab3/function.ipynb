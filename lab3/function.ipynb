{
 "cells": [
  {
   "cell_type": "code",
   "execution_count": null,
   "id": "5009c7bb",
   "metadata": {},
   "outputs": [],
   "source": [
    "#EX1\n",
    "def toOnces(k):\n",
    "    return k*28.3495231\n",
    "a=float(input(\"grams\"))\n",
    "print(toOnces(a))"
   ]
  },
  {
   "cell_type": "code",
   "execution_count": null,
   "id": "a7d590a8",
   "metadata": {},
   "outputs": [],
   "source": [
    "#EX2\n",
    "def conversionTOc(f):\n",
    "    print('%.2f' % ((5/9)*(f-32)))\n",
    "    \n",
    "a=int(input())\n",
    "conversionTOc(a)"
   ]
  },
  {
   "cell_type": "code",
   "execution_count": null,
   "id": "0f412378",
   "metadata": {},
   "outputs": [],
   "source": [
    "#EX3\n",
    "def solve(numheads, numlegs):\n",
    "    rabbits = (numlegs - 2 * numheads) / 2\n",
    "    chickens = numheads - rabbits\n",
    "    print (rabbits, chickens)\n",
    "\n",
    "        \n",
    "heads = int(input(\"Heads: \"))\n",
    "legs = int(input(\"Legs: \"))\n",
    "solve(heads,legs)"
   ]
  },
  {
   "cell_type": "code",
   "execution_count": null,
   "id": "5fefdbaf",
   "metadata": {},
   "outputs": [],
   "source": [
    "\n",
    "#EX4\n",
    "def primes(k):\n",
    "    o=0\n",
    "    for x in range(1, k+1):\n",
    "        if k%x==0:\n",
    "            o+=1\n",
    "    if o==2:\n",
    "        return True\n",
    "    else:\n",
    "        return False\n",
    "\n",
    "st1=input(\"print numbers\")\n",
    "st2=list(map(int,st1.split()))\n",
    "\n",
    "def filters(k):\n",
    "    return list(filter(primes,k))\n",
    "\n",
    "st3=filters(st2)\n",
    "print(st3)"
   ]
  },
  {
   "cell_type": "code",
   "execution_count": null,
   "id": "2126f52f",
   "metadata": {},
   "outputs": [],
   "source": [
    "#EX5\n",
    "def acceptstring(str):\n",
    "    for i in range(len((str))):\n",
    "        for j in range(len((str))):\n",
    "            print(str[j-i],end=\" \")\n",
    "        print()\n",
    "\n",
    "k=str(input())\n",
    "acceptstring(k)\n",
    "\n"
   ]
  },
  {
   "cell_type": "code",
   "execution_count": null,
   "id": "fd288d58",
   "metadata": {},
   "outputs": [],
   "source": [
    "#EX6\n",
    "def naoborot(str):\n",
    "    n = str.split()\n",
    "    n.reverse()\n",
    "    for i in range(len(n)):\n",
    "        print(n[i], end = \" \")\n",
    "    \n",
    "\n",
    "string = input(\"Sentence: \")\n",
    "naoborot(string)"
   ]
  },
  {
   "cell_type": "code",
   "execution_count": null,
   "id": "f1145a92",
   "metadata": {},
   "outputs": [],
   "source": [
    "#EX7\n",
    "def has_33(nums):\n",
    "    i=0\n",
    "    count1=0\n",
    "    count2=0\n",
    "    for x in range(len(nums)-1):\n",
    "        if nums[x]==3 and nums[x+1]==3:\n",
    "            return True\n",
    "                \n",
    "    return False\n",
    "            \n",
    " \n",
    "a=input()   \n",
    "k=list(map(int,a.split()))\n",
    "has_33(k)"
   ]
  },
  {
   "cell_type": "code",
   "execution_count": null,
   "id": "8ab29da1",
   "metadata": {},
   "outputs": [],
   "source": [
    "#EX8\n",
    "def spy_game(nums):\n",
    "    cnt=0\n",
    "    for x in range(len(nums)):\n",
    "        if nums[x]==0:\n",
    "            cnt+=1\n",
    "        if nums[x]==7 and cnt==2:\n",
    "            return True\n",
    "            \n",
    "    return False\n",
    "\n",
    "a=input()   \n",
    "k=list(map(int,a.split()))   \n",
    "print(spy_game(k)) "
   ]
  },
  {
   "cell_type": "code",
   "execution_count": null,
   "id": "ad06c16e",
   "metadata": {},
   "outputs": [],
   "source": [
    "\n",
    "#EX9\n",
    "def VolOFsphere(k):\n",
    "    v=float((4/3) * 3.14 * k**3)\n",
    "    return v\n",
    "\n",
    "k=int(input())\n",
    "print(VolOFsphere(k))"
   ]
  },
  {
   "cell_type": "code",
   "execution_count": null,
   "id": "865cd1ff",
   "metadata": {},
   "outputs": [],
   "source": [
    "#EX10\n",
    "def unique_list(nums):\n",
    "    n = {}\n",
    "    for i in nums:\n",
    "        n[i] = n.get(i, 0) + 1\n",
    "    for key, value in n.items():\n",
    "        if value == 1:\n",
    "            print(key, end=\" \")\n",
    "\n",
    "\n",
    "numbers = input(\"Numbers: \")\n",
    "nums_list = list(map(int, numbers.split()))\n",
    "unique_list(nums_list)"
   ]
  },
  {
   "cell_type": "code",
   "execution_count": null,
   "id": "7417d892",
   "metadata": {},
   "outputs": [],
   "source": [
    "#EX11\n",
    "def palindrome(k):\n",
    "    if len(k)>1:\n",
    "        for x in range(len(k)//2):\n",
    "            if k[x] != k[len(k)-x-1]:\n",
    "                return False\n",
    "        return True\n",
    "    else:\n",
    "        return True\n",
    "        \n",
    "\n",
    "k = str(input())\n",
    "palindrome(k)"
   ]
  },
  {
   "cell_type": "code",
   "execution_count": null,
   "id": "6ee139fa",
   "metadata": {},
   "outputs": [],
   "source": [
    "#EX12\n",
    "def histogram(a):\n",
    "    i=0\n",
    "    for x in a:\n",
    "        for j in range(x):\n",
    "            print('*',end='')\n",
    "            i+=1\n",
    "        print()\n",
    "        i=0\n",
    "\n",
    "k = input()\n",
    "a=list(map(int,k.split()))\n",
    "histogram(a)"
   ]
  },
  {
   "cell_type": "code",
   "execution_count": null,
   "id": "7e79f9f1",
   "metadata": {},
   "outputs": [],
   "source": [
    "#EX13\n",
    "import random\n",
    "#r1=random.randint(1,20)\n",
    "def Guess_the_number(k):\n",
    "    cnt=1\n",
    "    print(f\"Well, {k}, I am thinking of a number between 1 and 20.\")\n",
    "    r1=random.randint(1,20)\n",
    "    while(True):\n",
    "        print(\"Take a guess.\")\n",
    "        t=int(input())\n",
    "        print(t)\n",
    "        print()\n",
    "        if t==r1:\n",
    "            print(f\"Good job, {k}! You guessed my number in {cnt} guesses!\")\n",
    "            return False\n",
    "        elif t<r1:\n",
    "            print(\"Your guess is too low.\")\n",
    "            cnt+=1\n",
    "        else:\n",
    "            print(\"Your guess is too hight.\")\n",
    "            cnt+=1\n",
    "\n",
    "    \n",
    "    \n",
    "\n",
    "print(\"Hello! What is your name?\")\n",
    "k=str(input())\n",
    "Guess_the_number(k)\n",
    "    \n"
   ]
  }
 ],
 "metadata": {
  "language_info": {
   "name": "python"
  }
 },
 "nbformat": 4,
 "nbformat_minor": 5
}
