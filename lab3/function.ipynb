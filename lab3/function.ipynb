{
 "cells": [
  {
   "cell_type": "code",
   "execution_count": 1,
   "id": "5009c7bb",
   "metadata": {},
   "outputs": [
    {
     "name": "stdout",
     "output_type": "stream",
     "text": [
      "1814.3694784\n"
     ]
    }
   ],
   "source": [
    "#EX1\n",
    "def toOnces(k):\n",
    "    return k*28.3495231\n",
    "a=float(input(\"grams\"))\n",
    "print(toOnces(a))"
   ]
  },
  {
   "cell_type": "code",
   "execution_count": 2,
   "id": "a7d590a8",
   "metadata": {},
   "outputs": [
    {
     "name": "stdout",
     "output_type": "stream",
     "text": [
      "-17.78\n"
     ]
    }
   ],
   "source": [
    "#EX2\n",
    "def conversionTOc(f):\n",
    "    print('%.2f' % ((5/9)*(f-32)))\n",
    "    \n",
    "a=int(input())\n",
    "conversionTOc(a)"
   ]
  },
  {
   "cell_type": "code",
   "execution_count": 3,
   "id": "0f412378",
   "metadata": {},
   "outputs": [
    {
     "name": "stdout",
     "output_type": "stream",
     "text": [
      "12.0 23.0\n"
     ]
    }
   ],
   "source": [
    "#EX3\n",
    "def solve(numheads, numlegs):\n",
    "    rabbits = (numlegs - 2 * numheads) / 2\n",
    "    chickens = numheads - rabbits\n",
    "    print (rabbits, chickens)\n",
    "\n",
    "        \n",
    "heads = int(input(\"Heads: \"))\n",
    "legs = int(input(\"Legs: \"))\n",
    "solve(heads,legs)"
   ]
  },
  {
   "cell_type": "code",
   "execution_count": 4,
   "id": "5fefdbaf",
   "metadata": {},
   "outputs": [
    {
     "name": "stdout",
     "output_type": "stream",
     "text": [
      "[2, 3, 5]\n"
     ]
    }
   ],
   "source": [
    "\n",
    "#EX4\n",
    "def primes(k):\n",
    "    o=0\n",
    "    for x in range(1, k+1):\n",
    "        if k%x==0:\n",
    "            o+=1\n",
    "    if o==2:\n",
    "        return True\n",
    "    else:\n",
    "        return False\n",
    "\n",
    "st1=input(\"print numbers\")\n",
    "st2=list(map(int,st1.split()))\n",
    "\n",
    "def filters(k):\n",
    "    return list(filter(primes,k))\n",
    "\n",
    "st3=filters(st2)\n",
    "print(st3)"
   ]
  },
  {
   "cell_type": "code",
   "execution_count": 5,
   "id": "2126f52f",
   "metadata": {},
   "outputs": [
    {
     "name": "stdout",
     "output_type": "stream",
     "text": [
      "p 1 p \n",
      "p p 1 \n",
      "1 p p \n"
     ]
    }
   ],
   "source": [
    "#EX5\n",
    "def acceptstring(str):\n",
    "    for i in range(len((str))):\n",
    "        for j in range(len((str))):\n",
    "            print(str[j-i],end=\" \")\n",
    "        print()\n",
    "\n",
    "k=str(input())\n",
    "acceptstring(k)\n",
    "\n"
   ]
  },
  {
   "cell_type": "code",
   "execution_count": 6,
   "id": "fd288d58",
   "metadata": {},
   "outputs": [
    {
     "name": "stdout",
     "output_type": "stream",
     "text": [
      "you love "
     ]
    }
   ],
   "source": [
    "#EX6\n",
    "def naoborot(str):\n",
    "    n = str.split()\n",
    "    n.reverse()\n",
    "    for i in range(len(n)):\n",
    "        print(n[i], end = \" \")\n",
    "    \n",
    "\n",
    "string = input(\"Sentence: \")\n",
    "naoborot(string)"
   ]
  },
  {
   "cell_type": "code",
   "execution_count": 7,
   "id": "f1145a92",
   "metadata": {},
   "outputs": [
    {
     "data": {
      "text/plain": [
       "False"
      ]
     },
     "execution_count": 7,
     "metadata": {},
     "output_type": "execute_result"
    }
   ],
   "source": [
    "#EX7\n",
    "def has_33(nums):\n",
    "    i=0\n",
    "    count1=0\n",
    "    count2=0\n",
    "    for x in range(len(nums)-1):\n",
    "        if nums[x]==3 and nums[x+1]==3:\n",
    "            return True\n",
    "                \n",
    "    return False\n",
    "            \n",
    " \n",
    "a=input()   \n",
    "k=list(map(int,a.split()))\n",
    "has_33(k)"
   ]
  },
  {
   "cell_type": "code",
   "execution_count": 8,
   "id": "8ab29da1",
   "metadata": {},
   "outputs": [
    {
     "name": "stdout",
     "output_type": "stream",
     "text": [
      "False\n"
     ]
    }
   ],
   "source": [
    "#EX8\n",
    "def spy_game(nums):\n",
    "    cnt=0\n",
    "    for x in range(len(nums)):\n",
    "        if nums[x]==0:\n",
    "            cnt+=1\n",
    "        if nums[x]==7 and cnt==2:\n",
    "            return True\n",
    "            \n",
    "    return False\n",
    "\n",
    "a=input()   \n",
    "k=list(map(int,a.split()))   \n",
    "print(spy_game(k)) "
   ]
  },
  {
   "cell_type": "code",
   "execution_count": 9,
   "id": "ad06c16e",
   "metadata": {},
   "outputs": [
    {
     "name": "stdout",
     "output_type": "stream",
     "text": [
      "523.3333333333334\n"
     ]
    }
   ],
   "source": [
    "\n",
    "#EX9\n",
    "def VolOFsphere(k):\n",
    "    v=float((4/3) * 3.14 * k**3)\n",
    "    return v\n",
    "\n",
    "k=int(input())\n",
    "print(VolOFsphere(k))"
   ]
  },
  {
   "cell_type": "code",
   "execution_count": 10,
   "id": "865cd1ff",
   "metadata": {},
   "outputs": [
    {
     "name": "stdout",
     "output_type": "stream",
     "text": [
      "1 2 3 "
     ]
    }
   ],
   "source": [
    "#EX10\n",
    "def unique_list(nums):\n",
    "    n = {}\n",
    "    for i in nums:\n",
    "        n[i] = n.get(i, 0) + 1\n",
    "    for key, value in n.items():\n",
    "        if value == 1:\n",
    "            print(key, end=\" \")\n",
    "\n",
    "\n",
    "numbers = input(\"Numbers: \")\n",
    "nums_list = list(map(int, numbers.split()))\n",
    "unique_list(nums_list)"
   ]
  },
  {
   "cell_type": "code",
   "execution_count": 11,
   "id": "7417d892",
   "metadata": {},
   "outputs": [
    {
     "data": {
      "text/plain": [
       "True"
      ]
     },
     "execution_count": 11,
     "metadata": {},
     "output_type": "execute_result"
    }
   ],
   "source": [
    "#EX11\n",
    "def palindrome(k):\n",
    "    if len(k)>1:\n",
    "        for x in range(len(k)//2):\n",
    "            if k[x] != k[len(k)-x-1]:\n",
    "                return False\n",
    "        return True\n",
    "    else:\n",
    "        return True\n",
    "        \n",
    "\n",
    "k = str(input())\n",
    "palindrome(k)"
   ]
  },
  {
   "cell_type": "code",
   "execution_count": 12,
   "id": "6ee139fa",
   "metadata": {},
   "outputs": [
    {
     "name": "stdout",
     "output_type": "stream",
     "text": [
      "***\n",
      "****\n",
      "*****\n"
     ]
    }
   ],
   "source": [
    "#EX12\n",
    "def histogram(a):\n",
    "    i=0\n",
    "    for x in a:\n",
    "        for j in range(x):\n",
    "            print('*',end='')\n",
    "            i+=1\n",
    "        print()\n",
    "        i=0\n",
    "\n",
    "k = input()\n",
    "a=list(map(int,k.split()))\n",
    "histogram(a)"
   ]
  },
  {
   "cell_type": "code",
   "execution_count": 13,
   "id": "7e79f9f1",
   "metadata": {},
   "outputs": [
    {
     "name": "stdout",
     "output_type": "stream",
     "text": [
      "Hello! What is your name?\n",
      "Well, Aisha, I am thinking of a number between 1 and 20.\n",
      "Take a guess.\n",
      "10\n",
      "\n",
      "Your guess is too low.\n",
      "Take a guess.\n",
      "24\n",
      "\n",
      "Your guess is too hight.\n",
      "Take a guess.\n",
      "15\n",
      "\n",
      "Your guess is too low.\n",
      "Take a guess.\n",
      "17\n",
      "\n",
      "Your guess is too low.\n",
      "Take a guess.\n",
      "20\n",
      "\n",
      "Your guess is too hight.\n",
      "Take a guess.\n",
      "19\n",
      "\n",
      "Your guess is too hight.\n",
      "Take a guess.\n",
      "18\n",
      "\n",
      "Good job, Aisha! You guessed my number in 7 guesses!\n"
     ]
    },
    {
     "data": {
      "text/plain": [
       "False"
      ]
     },
     "execution_count": 13,
     "metadata": {},
     "output_type": "execute_result"
    }
   ],
   "source": [
    "#EX13\n",
    "import random\n",
    "#r1=random.randint(1,20)\n",
    "def Guess_the_number(k):\n",
    "    cnt=1\n",
    "    print(f\"Well, {k}, I am thinking of a number between 1 and 20.\")\n",
    "    r1=random.randint(1,20)\n",
    "    while(True):\n",
    "        print(\"Take a guess.\")\n",
    "        t=int(input())\n",
    "        print(t)\n",
    "        print()\n",
    "        if t==r1:\n",
    "            print(f\"Good job, {k}! You guessed my number in {cnt} guesses!\")\n",
    "            return False\n",
    "        elif t<r1:\n",
    "            print(\"Your guess is too low.\")\n",
    "            cnt+=1\n",
    "        else:\n",
    "            print(\"Your guess is too hight.\")\n",
    "            cnt+=1\n",
    "\n",
    "    \n",
    "    \n",
    "\n",
    "print(\"Hello! What is your name?\")\n",
    "k=str(input())\n",
    "Guess_the_number(k)\n",
    "    \n"
   ]
  }
 ],
 "metadata": {
  "kernelspec": {
   "display_name": ".venv",
   "language": "python",
   "name": "python3"
  },
  "language_info": {
   "codemirror_mode": {
    "name": "ipython",
    "version": 3
   },
   "file_extension": ".py",
   "mimetype": "text/x-python",
   "name": "python",
   "nbconvert_exporter": "python",
   "pygments_lexer": "ipython3",
   "version": "3.11.9"
  }
 },
 "nbformat": 4,
 "nbformat_minor": 5
}
