{
 "cells": [
  {
   "cell_type": "code",
   "execution_count": 1,
   "id": "4b6c1bbe",
   "metadata": {},
   "outputs": [
    {
     "name": "stdout",
     "output_type": "stream",
     "text": [
      "Output radian:  0.349066\n"
     ]
    }
   ],
   "source": [
    "#ex1\n",
    "import math\n",
    "\n",
    "Degree = int(input(\"Input degree: \"))\n",
    "Radian = (math.pi * Degree)/180\n",
    "print(\"Output radian: \",'%.6f' % Radian)"
   ]
  },
  {
   "cell_type": "code",
   "execution_count": 2,
   "id": "d5eb43da",
   "metadata": {},
   "outputs": [
    {
     "name": "stdout",
     "output_type": "stream",
     "text": [
      "Area of trapezoid:  36.0\n"
     ]
    }
   ],
   "source": [
    "#ex2\n",
    "import math\n",
    "\n",
    "h = int(input(\"Height: \"))\n",
    "a = int(input(\"Base, first value: \"))\n",
    "b = int(input(\"Base, second value: \"))\n",
    "\n",
    "print(\"Area of trapezoid: \", h*(a+b)*0.5)"
   ]
  },
  {
   "cell_type": "code",
   "execution_count": 3,
   "id": "58dc8409",
   "metadata": {},
   "outputs": [
    {
     "name": "stdout",
     "output_type": "stream",
     "text": [
      "Area: 127.30573435631248\n"
     ]
    }
   ],
   "source": [
    "#ex3\n",
    "import math\n",
    "\n",
    "n=int(input(\"Input number of sides:\"))\n",
    "a=int(input(\"Input the length of a side:\"))\n",
    "area = (n * a**2) / (4 * math.tan(math.pi / n))\n",
    "print(\"Area:\",area)"
   ]
  },
  {
   "cell_type": "code",
   "execution_count": 4,
   "id": "8ddeaaef",
   "metadata": {},
   "outputs": [
    {
     "name": "stdout",
     "output_type": "stream",
     "text": [
      "35.0\n"
     ]
    }
   ],
   "source": [
    "#ex4\n",
    "import math\n",
    "\n",
    "b=int(input(\"a:\"))\n",
    "a=int(input(\"b:\"))\n",
    "print(float(a*b))"
   ]
  }
 ],
 "metadata": {
  "kernelspec": {
   "display_name": ".venv",
   "language": "python",
   "name": "python3"
  },
  "language_info": {
   "codemirror_mode": {
    "name": "ipython",
    "version": 3
   },
   "file_extension": ".py",
   "mimetype": "text/x-python",
   "name": "python",
   "nbconvert_exporter": "python",
   "pygments_lexer": "ipython3",
   "version": "3.11.9"
  }
 },
 "nbformat": 4,
 "nbformat_minor": 5
}
